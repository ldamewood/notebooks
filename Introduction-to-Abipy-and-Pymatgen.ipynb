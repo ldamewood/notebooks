{
 "cells": [
  {
   "cell_type": "markdown",
   "metadata": {},
   "source": [
    "These are helper modules for python that help you to quickly setup and execute a series of first-principles calculations using, along with many others, VASP and ABINIT."
   ]
  },
  {
   "cell_type": "markdown",
   "metadata": {},
   "source": [
    "# \"Quick\" Intro to Python 2.7"
   ]
  },
  {
   "cell_type": "markdown",
   "metadata": {},
   "source": [
    "Due to a constantly changing implementation, it is best practice to start python codes using more accurate code from later versions. In particular, the `print()` function and the division operator `/`. It is best to not even learn the old `print` behavior, but here are some examples of the explicit and implicit division rules."
   ]
  },
  {
   "cell_type": "code",
   "execution_count": null,
   "metadata": {
    "collapsed": false,
    "scrolled": true
   },
   "outputs": [],
   "source": [
    "# Import new implementation of specific functions.\n",
    "from __future__ import print_function, division\n",
    "print('Hello') # Note: newline is automatically included\n",
    "print(5/2)   # Implicit float division. Old division would produce `2`.\n",
    "print(5./2)  # Explicit float division.\n",
    "print(5//2)  # Explicit integer division.\n",
    "print(5.//2) # Also integer division - i.e. \"floor\" function."
   ]
  },
  {
   "cell_type": "markdown",
   "metadata": {},
   "source": [
    "Python is lazy about variable allocation and types. Python infers the type from the context and easily combines similar types."
   ]
  },
  {
   "cell_type": "code",
   "execution_count": null,
   "metadata": {
    "collapsed": false
   },
   "outputs": [],
   "source": [
    "# Add two different types\n",
    "a = 5\n",
    "b = 6.2\n",
    "print(type(a))\n",
    "print(type(b))\n",
    "print(a+b) # 5 is automatically converted to 5.0"
   ]
  },
  {
   "cell_type": "markdown",
   "metadata": {},
   "source": [
    "Variables can be lazily reassigned to another type:"
   ]
  },
  {
   "cell_type": "code",
   "execution_count": null,
   "metadata": {
    "collapsed": false
   },
   "outputs": [],
   "source": [
    "a = True\n",
    "print(a)\n",
    "print(a+b) # True is automatically converted into 1.0"
   ]
  },
  {
   "cell_type": "markdown",
   "metadata": {},
   "source": [
    "Lists are ordered arrays that can contain anything:"
   ]
  },
  {
   "cell_type": "code",
   "execution_count": null,
   "metadata": {
    "collapsed": false
   },
   "outputs": [],
   "source": [
    "lst = [1,False,3.14,{},'Hello']\n",
    "print(lst)"
   ]
  },
  {
   "cell_type": "markdown",
   "metadata": {},
   "source": [
    "Lists can easily iterate:"
   ]
  },
  {
   "cell_type": "code",
   "execution_count": null,
   "metadata": {
    "collapsed": false
   },
   "outputs": [],
   "source": [
    "for item in lst:\n",
    "    print(item,type(item))"
   ]
  },
  {
   "cell_type": "markdown",
   "metadata": {},
   "source": [
    "Lists can also be accessed and modified like C arrays:"
   ]
  },
  {
   "cell_type": "code",
   "execution_count": null,
   "metadata": {
    "collapsed": false
   },
   "outputs": [],
   "source": [
    "print(lst[0])\n",
    "print(lst[4])\n",
    "lst[3] = 14.7\n",
    "print(lst)\n",
    "print(lst[5]) # Raises an IndexError because the list only has 5 elements."
   ]
  },
  {
   "cell_type": "markdown",
   "metadata": {},
   "source": [
    "Dictionaries are hashable (key, value) pairs."
   ]
  },
  {
   "cell_type": "code",
   "execution_count": null,
   "metadata": {
    "collapsed": false
   },
   "outputs": [],
   "source": [
    "dct = {'a': 1}\n",
    "dct['b'] = 2\n",
    "print(dct)\n",
    "print(dct['b'] + dct['a'])\n",
    "print(dct['c']) # Raises a KeyError because 'c' is not a valid key."
   ]
  },
  {
   "cell_type": "markdown",
   "metadata": {},
   "source": [
    "Dicts have multiple ways of iterating over the contents depending on what you want. Also note that simple for-loops can be done in one line."
   ]
  },
  {
   "cell_type": "code",
   "execution_count": null,
   "metadata": {
    "collapsed": false
   },
   "outputs": [],
   "source": [
    "for key in dct.keys(): print(key)\n",
    "for value in dct.values(): print(value)\n",
    "for key,value in dct.items(): print(key, ':', value)"
   ]
  },
  {
   "cell_type": "code",
   "execution_count": null,
   "metadata": {
    "collapsed": false
   },
   "outputs": [],
   "source": [
    "print(dct.keys())\n",
    "print(dct.values())\n",
    "print(dct.items())"
   ]
  },
  {
   "cell_type": "markdown",
   "metadata": {},
   "source": [
    "Tuples are unchangable (immutable) lists."
   ]
  },
  {
   "cell_type": "code",
   "execution_count": null,
   "metadata": {
    "collapsed": false
   },
   "outputs": [],
   "source": [
    "tpl = (1,2,3)\n",
    "print(tpl)\n",
    "print(tpl[0])\n",
    "tpl[0] = 2 # Raises a TypeError because tuples cannot be changed."
   ]
  },
  {
   "cell_type": "markdown",
   "metadata": {},
   "source": [
    "Iterators are objects that act like lists, but they do not construct all of the items at once. The items are constructed as-needed."
   ]
  },
  {
   "cell_type": "code",
   "execution_count": null,
   "metadata": {
    "collapsed": false
   },
   "outputs": [],
   "source": [
    "print(xrange(3)) # Prints \"an object\"\n",
    "print(range(3)) # Prints a list"
   ]
  },
  {
   "cell_type": "code",
   "execution_count": null,
   "metadata": {
    "collapsed": false
   },
   "outputs": [],
   "source": [
    "for i in xrange(3): print(i)\n",
    "for i in range(3): print(i)"
   ]
  },
  {
   "cell_type": "markdown",
   "metadata": {},
   "source": [
    "Here are two definitions: a function that returns a list, and a generator that yields the list items. The `func_list` subroutine will generate the entire list and then return it. The `gen_list` subroutine will produce the first item, but then remember its position for when the next item is needed."
   ]
  },
  {
   "cell_type": "code",
   "execution_count": null,
   "metadata": {
    "collapsed": false
   },
   "outputs": [],
   "source": [
    "def func_list():\n",
    "    return [1,2,3]\n",
    "print(func_list()) # Prints the complete list.\n",
    "\n",
    "def gen_list():\n",
    "    yield 1\n",
    "    yield 2\n",
    "    yield 3\n",
    "print(gen_list()) # Prints an object. We can't see the results until we access them!"
   ]
  },
  {
   "cell_type": "code",
   "execution_count": null,
   "metadata": {
    "collapsed": false
   },
   "outputs": [],
   "source": [
    "for i in func_list(): print(i)\n",
    "for i in gen_list(): print(i)"
   ]
  },
  {
   "cell_type": "markdown",
   "metadata": {},
   "source": [
    "Generators and iterators are useful for situations where the entire list cannot easily be created all at once (too much memory) or where other factors determine the next item in the list (maybe it yields a time-dependent result from a network)."
   ]
  },
  {
   "cell_type": "markdown",
   "metadata": {},
   "source": [
    "# Installing Pymatgen"
   ]
  },
  {
   "cell_type": "markdown",
   "metadata": {},
   "source": [
    "There are many requirements for pymatgen. First, you need a python interpretor, and installations of numpy (numerical python) and a few other modules. I will not cover this aspect because there are many tutorials online. I am using Enthought Canopy because it is free for educational institutions. Once Canopy is installed, I load the Canopy Terminal \"Tools > Canopy Terminal\" and run \"pip install pymatgen\". If all succeedes, you will now have access to pymatgen in your python installation."
   ]
  },
  {
   "cell_type": "markdown",
   "metadata": {},
   "source": [
    "# Pymatgen interface to VASP"
   ]
  },
  {
   "cell_type": "markdown",
   "metadata": {},
   "source": [
    "Pymatgen will allow you to programmatically create and read VASP input and output. Most of the time, we will manually create some input for VASP and then use pymatgen to perform some data analysis, so I will start with how to import VASP results."
   ]
  },
  {
   "cell_type": "code",
   "execution_count": 29,
   "metadata": {
    "collapsed": false
   },
   "outputs": [
    {
     "name": "stdout",
     "output_type": "stream",
     "text": [
      "HgTe\n",
      "6.21\n",
      "0.00 0.50 0.50\n",
      "0.50 0.00 0.50\n",
      "0.50 0.50 0.00\n",
      "Hg Te\n",
      "1  1\n",
      "Direct\n",
      "0.00 0.00 0.00\n",
      "0.25 0.25 0.25\n"
     ]
    }
   ],
   "source": [
    "%%bash\n",
    "cat /Users/liam/Work/POSCAR"
   ]
  },
  {
   "cell_type": "code",
   "execution_count": 30,
   "metadata": {
    "collapsed": false
   },
   "outputs": [],
   "source": [
    "from pymatgen.io.vaspio.vasp_output import Poscar\n",
    "\n",
    "# Poscar is a python module that contains helper methods. `pos` is a POSCAR object that\n",
    "# contains the information from the file.\n",
    "pos = Poscar.from_file('/Users/liam/Work/POSCAR')"
   ]
  },
  {
   "cell_type": "code",
   "execution_count": 31,
   "metadata": {
    "collapsed": false
   },
   "outputs": [
    {
     "name": "stdout",
     "output_type": "stream",
     "text": [
      "HgTe\n",
      "1.0\n",
      "0.000000 3.105000 3.105000\n",
      "3.105000 0.000000 3.105000\n",
      "3.105000 3.105000 0.000000\n",
      "Hg Te\n",
      "1 1\n",
      "direct\n",
      "0.000000 0.000000 0.000000 Hg\n",
      "0.250000 0.250000 0.250000 Te\n",
      "\n"
     ]
    }
   ],
   "source": [
    "print(pos)"
   ]
  },
  {
   "cell_type": "code",
   "execution_count": 32,
   "metadata": {
    "collapsed": false
   },
   "outputs": [
    {
     "name": "stdout",
     "output_type": "stream",
     "text": [
      "Structure Summary (Hg1 Te1)\n",
      "Reduced Formula: HgTe\n",
      "abc   :   4.391133   4.391133   4.391133\n",
      "angles:  60.000000  60.000000  60.000000\n",
      "Sites (2)\n",
      "1 Hg     0.000000     0.000000     0.000000\n",
      "2 Te     0.250000     0.250000     0.250000\n"
     ]
    }
   ],
   "source": [
    "print(pos.structure) # The structure is a more general structure object"
   ]
  },
  {
   "cell_type": "code",
   "execution_count": 33,
   "metadata": {
    "collapsed": false
   },
   "outputs": [
    {
     "name": "stdout",
     "output_type": "stream",
     "text": [
      "[Element Hg, Element Te]\n"
     ]
    }
   ],
   "source": [
    "print(pos.structure.species) # A list of species"
   ]
  },
  {
   "cell_type": "code",
   "execution_count": 34,
   "metadata": {
    "collapsed": false
   },
   "outputs": [
    {
     "name": "stdout",
     "output_type": "stream",
     "text": [
      "[[ 0.     3.105  3.105]\n",
      " [ 3.105  0.     3.105]\n",
      " [ 3.105  3.105  0.   ]]\n"
     ]
    }
   ],
   "source": [
    "print(pos.structure.lattice_vectors()) # Produces a 3x3 list"
   ]
  },
  {
   "cell_type": "code",
   "execution_count": 35,
   "metadata": {
    "collapsed": false
   },
   "outputs": [
    {
     "name": "stdout",
     "output_type": "stream",
     "text": [
      "([0.0, 0.0, 0.0], [0.0, 0.0, 0.0])\n",
      "([0.25, 0.25, 0.25], [1.5525, 1.5525, 1.5525])\n"
     ]
    }
   ],
   "source": [
    "for site in pos.structure: print(site.frac_coords.tolist(), site.coords.tolist())"
   ]
  },
  {
   "cell_type": "code",
   "execution_count": 36,
   "metadata": {
    "collapsed": false
   },
   "outputs": [
    {
     "name": "stdout",
     "output_type": "stream",
     "text": [
      "[ 0.  0.  0.] Hg\n"
     ]
    }
   ],
   "source": [
    "print(pos.structure[0])"
   ]
  },
  {
   "cell_type": "code",
   "execution_count": 37,
   "metadata": {
    "collapsed": false
   },
   "outputs": [
    {
     "name": "stdout",
     "output_type": "stream",
     "text": [
      "[0.0, 0.0, 0.0]\n"
     ]
    }
   ],
   "source": [
    "print(pos.structure[0].frac_coords.tolist())"
   ]
  },
  {
   "cell_type": "code",
   "execution_count": 38,
   "metadata": {
    "collapsed": false
   },
   "outputs": [
    {
     "ename": "AttributeError",
     "evalue": "can't set attribute",
     "output_type": "error",
     "traceback": [
      "\u001b[0;31m---------------------------------------------------------------------------\u001b[0m",
      "\u001b[0;31mAttributeError\u001b[0m                            Traceback (most recent call last)",
      "\u001b[0;32m<ipython-input-38-cd9f720ec5e6>\u001b[0m in \u001b[0;36m<module>\u001b[0;34m()\u001b[0m\n\u001b[0;32m----> 1\u001b[0;31m \u001b[0mpos\u001b[0m\u001b[0;34m.\u001b[0m\u001b[0mstructure\u001b[0m\u001b[0;34m[\u001b[0m\u001b[0;36m0\u001b[0m\u001b[0;34m]\u001b[0m\u001b[0;34m.\u001b[0m\u001b[0mcoords\u001b[0m \u001b[0;34m=\u001b[0m \u001b[0;34m(\u001b[0m\u001b[0;36m0.\u001b[0m\u001b[0;34m,\u001b[0m\u001b[0;36m0.\u001b[0m\u001b[0;34m,\u001b[0m\u001b[0;36m0.\u001b[0m\u001b[0;34m)\u001b[0m\u001b[0;34m\u001b[0m\u001b[0m\n\u001b[0m",
      "\u001b[0;31mAttributeError\u001b[0m: can't set attribute"
     ]
    }
   ],
   "source": [
    "# This won't work because the coords are \"read-only\" attributes.\n",
    "pos.structure[0].coords = (0.,0.,0.)"
   ]
  },
  {
   "cell_type": "code",
   "execution_count": 39,
   "metadata": {
    "collapsed": false
   },
   "outputs": [
    {
     "name": "stdout",
     "output_type": "stream",
     "text": [
      "(PeriodicSite: Hg (0.0000, 0.0000, 0.0000) [0.0000, 0.0000, 0.0000], PeriodicSite: Te (1.5525, 1.5525, 1.5525) [0.2500, 0.2500, 0.2500])\n",
      "(PeriodicSite: Te (1.5525, 1.5525, 1.5525) [0.2500, 0.2500, 0.2500], PeriodicSite: Hg (0.0000, 0.0000, 0.0000) [0.0000, 0.0000, 0.0000])\n"
     ]
    }
   ],
   "source": [
    "print(pos.structure[0], pos.structure[1])\n",
    "tmp = pos.structure[0]\n",
    "pos.structure[0] = pos.structure[1]\n",
    "pos.structure[1] = tmp\n",
    "print(pos.structure[0], pos.structure[1])"
   ]
  },
  {
   "cell_type": "code",
   "execution_count": 40,
   "metadata": {
    "collapsed": false
   },
   "outputs": [
    {
     "name": "stdout",
     "output_type": "stream",
     "text": [
      "HgTe\n",
      "1.0\n",
      "0.000000 3.105000 3.105000\n",
      "3.105000 0.000000 3.105000\n",
      "3.105000 3.105000 0.000000\n",
      "Te Hg\n",
      "1 1\n",
      "direct\n",
      "0.250000 0.250000 0.250000 Te\n",
      "0.000000 0.000000 0.000000 Hg\n",
      "\n"
     ]
    }
   ],
   "source": [
    "print(pos)"
   ]
  },
  {
   "cell_type": "code",
   "execution_count": null,
   "metadata": {
    "collapsed": true
   },
   "outputs": [],
   "source": []
  }
 ],
 "metadata": {
  "kernelspec": {
   "display_name": "Python 2",
   "language": "python",
   "name": "python2"
  },
  "language_info": {
   "codemirror_mode": {
    "name": "ipython",
    "version": 2
   },
   "file_extension": ".py",
   "mimetype": "text/x-python",
   "name": "python",
   "nbconvert_exporter": "python",
   "pygments_lexer": "ipython2",
   "version": "2.7.6"
  }
 },
 "nbformat": 4,
 "nbformat_minor": 0
}
