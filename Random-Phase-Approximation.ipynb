{
 "cells": [
  {
   "cell_type": "markdown",
   "metadata": {},
   "source": [
    "# The random phase approximation\n",
    "\n",
    "Here are some notes about the graph interpretation of the random phase approximation (RPA) as a graph."
   ]
  },
  {
   "cell_type": "markdown",
   "metadata": {},
   "source": [
    "Let's take an example of a spin system with $N$ sites with spin-1/2 (binary) operators\n",
    "$S^{x,y,z}_i$ and $S^\\pm_i$ for each site $i$ with the following relationships:\n",
    "\\begin{align}\n",
    "S^\\pm_i &= S^x \\pm i S^y_i \\\\\n",
    "\\left[S^\\pm_i,S^\\mp_j\\right] &= \\pm 2S^z_i\\delta_{ij} \\\\\n",
    "\\left[S^\\pm_i, S^z_j\\right] &= \\mp S^\\pm_j\\delta_{ij} \\\\\n",
    "\\vec S_i \\cdot \\vec S_j\n",
    " &= S^x_iS^x_j + S^y_iS^y_j + S^z_iS^z_j \\\\\n",
    " &= S^z_iS^z_j + \\frac{1}{2}\\left(S^+_iS^-_j + S^-_iS^+_j\\right)\n",
    "\\end{align}\n",
    "where $\\vec S_i$ is a vector with components $(S^x_i,S^y_i,S^z_i)$, and\n",
    "$\\delta_{ij} = 1$ if $i=j$, and $0$ otherwise."
   ]
  },
  {
   "cell_type": "markdown",
   "metadata": {},
   "source": [
    "Next, I'll introduce the two-time Green's function for this system $G_{ij}(t,t')$, which describes how spin states may propagate from site $j$ at time $t'$ to site $i$ at time $t$ at temperature $T$. The so-called retarded Green's function, which guarentees $t > t'$ is\n",
    "\\begin{align}\n",
    "G^r_{ij}(t,t') &= -i\\theta(t - t')\\langle\\left[A_i(t - t'), B_j\\right]\\rangle\n",
    "\\end{align}\n",
    "where $\\langle\\ldots\\rangle$ denotes the thermal average at temperature $T$ of two pairs of operators $A$ and $B$ at sites $i$ and $j$, respectively. I have also assumed time-invariance of the operators; that is, the Green's function only depends on the lag $\\tau = t - t'$ between measurements on the system."
   ]
  },
  {
   "cell_type": "markdown",
   "metadata": {},
   "source": [
    "At this point, the two-time Green's function only demonstrates that states evolve over time, but does not describe HOW they evolve over time. For this, we need the equation of motion for the Green's function (in the interaction picture), which involves the Hamiltonian $H$ for the system\n",
    "\\begin{align}\n",
    "i \\frac{d}{dt}G^r_{ij}(\\tau)\n",
    "&= \\delta(\\tau)\\langle\\left[A_i(\\tau), B_j\\right]\\rangle + \\theta(\\tau) \\left\\langle\\left[\\frac{d}{dt}A_i(\\tau), B_j\\right]\\right\\rangle \\\\\n",
    "&= \\delta(\\tau)\\langle\\left[A_i(\\tau), B_j\\right]\\rangle + i\\theta(\\tau) \\left\\langle\\left[\\left[A_i(\\tau), H\\right], B_j\\right]\\right\\rangle \\\\\n",
    "\\end{align}"
   ]
  },
  {
   "cell_type": "markdown",
   "metadata": {},
   "source": [
    "Next, I will examine the spectral representation of this equation by defining the Fourier representation of the Green's frunction\n",
    "\\begin{align}\n",
    "G^r_{ij}(\\tau) &= \\int_{-\\infty}^\\infty dE\\,G^r(E) e^{-i E \\tau}\n",
    "\\end{align}\n",
    "and the second order Green's function\n",
    "\\begin{align}\n",
    "G^{(2)r}_{ij}(\\tau) &= i\\theta(\\tau) \\left\\langle\\left[\\left[A_i(\\tau), H\\right], B_j\\right]\\right\\rangle \\\\\n",
    "&= \\int_{-\\infty}^\\infty dE\\,G^{(2)r}_{ij}(E) e^{-i E \\tau}\n",
    "\\end{align}\n",
    "so the equation of motion becomes\n",
    "\\begin{align}\n",
    "EG^r_{ij}(E) &= \\frac{\\langle[A_i,B_j]\\rangle}{2\\pi} + G^{(2)r}_{ij}(E)\n",
    "\\end{align}"
   ]
  },
  {
   "cell_type": "markdown",
   "metadata": {},
   "source": [
    "At this point, it is helpful to pick a specific Hamiltonian. For spin systems, the Heisenberg Hamiltonain is\n",
    "\\begin{align}\n",
    "H \n",
    "&= -\\mu_B h_0\\sum_i S^z_i - \\frac{1}{2}\\sum_{\\langle ij\\rangle} J_{ij} \\vec S_i\\cdot \\vec S_j\\\\ \n",
    "&= -\\mu_B h_0\\sum_i S^z_i -\\frac{1}{2}\\sum_{\\langle ij\\rangle}J_{ij}\\left[\n",
    "    S^z_iS^z_j + \\frac{1}{2}\\left(S^+_iS^-_j + S^-_iS^+j\\right)\n",
    "\\right]\\\\\n",
    "&= H_0 + H'\n",
    "\\end{align}\n",
    "where $h_0$ is an external magnetic field strength, $\\mu_b$ is the bohr magneton, $\\langle ij\\rangle$ denotes sums over nearest neighbor pairs (this constraint can be lifted!), and $J_{ij}$ is the exchange strength."
   ]
  },
  {
   "cell_type": "markdown",
   "metadata": {},
   "source": [
    "For reasons outlined in the textbook, I choose $A_i = S^+_i$ and $B_j = S^-_j$ and the resulting equation of motion is represented as (Eq. 229 in the textbook)\n",
    "\\begin{align}\n",
    "(E - \\mu_B h_0)\\langle\\langle S^+_i; S^-_j \\rangle\\rangle^r_E\n",
    "&= \\frac{\\delta_{ij}}{\\pi}\\langle S^z_i \\rangle\n",
    " - \\sum_k J_{ik} \\langle\\langle S^z_i S^+_k - S^z_kS^+_i; S^-_j\\rangle\\rangle^r_E\n",
    "\\end{align}\n",
    "where I have adopted the notation $\\langle\\langle\\cdots\\rangle\\rangle$ of the Green's function from the textbook:\n",
    "\\begin{align}\n",
    "G^{\\mu\\nu}_{ij} &= \\langle\\langle S^\\mu_i ; S^\\nu_j \\rangle\\rangle \\\\\n",
    "G^{(2)\\mu\\nu\\lambda}_{ijk} &= \\langle\\langle S^\\mu_i S^\\nu_j; S^\\lambda_k \\rangle\\rangle\n",
    "\\end{align}\n"
   ]
  },
  {
   "cell_type": "markdown",
   "metadata": {},
   "source": [
    "The RPA decoupling scheme separates the transverse from the longnatudinal motion, we can try replacing $S^z$ with $\\langle S^z\\rangle$. The last term in the equation above becomes:\n",
    "\\begin{align}\n",
    "\\sum_k J_{ik} \\langle\\langle S^z_i S^+_k - S^z_kS^+_i; S^-_j\\rangle\\rangle^r_E\n",
    " &\\approx \\sum_k J_{ik} \\left[\\langle S_i^z \\rangle \\langle\\langle S^+_k ; S^-_j\\rangle\\rangle - \\langle S_k^z \\rangle \\langle\\langle S^+_i ; S^-_j\\rangle\\rangle\\right] \\\\\n",
    " &= \\langle S_i^z \\rangle \\sum_k J_{ik} \\langle\\langle S^+_k ; S^-_j\\rangle\\rangle -  \\langle\\langle S^+_i ; S^-_j\\rangle\\rangle \\sum_k J_{ik} \\langle S_k^z \\rangle\n",
    "\\end{align}"
   ]
  },
  {
   "cell_type": "markdown",
   "metadata": {},
   "source": [
    "The second term above is the mean field. It's the average field produced at site $i$ due to all the other sites $k$. The first term is the coupling of the transverse motion with sites."
   ]
  },
  {
   "cell_type": "markdown",
   "metadata": {},
   "source": [
    "Is it possible to write this decoupling more generally? We can try! If we multiply by $1 = \\sum_{k'}\\delta_{ik'}$ and then swap dummy variables $k$ and $k'$ in one of the terms, I find:\n",
    "\\begin{align}\n",
    " & \\sum_{kk'}\\langle S^z_{k'} \\rangle \\delta_{ik'} J_{k'k} \\langle\\langle S^+_k; S^-_j\\rangle\\rangle - \\sum_{kk'}\\delta_{ik'}\\langle\\langle S^+_{k'}; S^-_j\\rangle\\rangle J_{k'k} \\langle S^z_{k} \\rangle \\\\\n",
    " &= \\sum_{kk'} \\left[\\langle S^z_{k'} \\rangle \\delta_{ik'} J_{k'k} - \\delta_{ik} J_{kk'} \\langle S^z_{k'} \\rangle \\right] \\langle\\langle S^+_k; S^-_j\\rangle\\rangle \\\\\n",
    " &= \\sum_{kk'} \\langle S^z_{k'} \\rangle J_{k'k} \\left(\\delta_{ik'} - \\delta_{ik}\\right) \\langle\\langle S^+_k; S^-_j\\rangle\\rangle \\\\\n",
    " &= \\sum_k \\underbrace{\\left[\\sum_{k'}\\langle S^z_{k'} \\rangle J_{k'k} \\left(\\delta_{ik'} - \\delta_{ik}\\right)\\right]}_{\\Lambda_{ik}} \\langle\\langle S^+_k; S^-_j\\rangle\\rangle \\\\\n",
    " &= \\sum_k \\Lambda_{ik}\\langle\\langle S^+_k; S^-_j\\rangle\\rangle\n",
    "\\end{align}"
   ]
  },
  {
   "cell_type": "markdown",
   "metadata": {},
   "source": [
    "The equation of motion now looks like:\n",
    "\\begin{align}\n",
    "(E - E_0)G_{ij} = D_{ij} + \\sum_k \\Lambda_{ik}G_{kj}\n",
    "\\end{align}\n",
    "or as matrices:\n",
    "\\begin{align}\n",
    "(E - E_0) \\mathbf G = \\mathbf D + \\mathbf\\Lambda\\mathbf G\n",
    "\\end{align}\n",
    "So\n",
    "\\begin{align}\n",
    "\\mathbf G(E) = (E - E_0 - \\mathbf\\Lambda)^{-1} \\mathbf D\n",
    "\\end{align}"
   ]
  },
  {
   "cell_type": "markdown",
   "metadata": {},
   "source": [
    "The equation for $\\mathbf G$ is problematic for terms where $E = E_0 + \\mathbf\\Lambda$. It can be argued (ref?) that the solutions where the singularity is a problem are not needed, so we take the pseudo-inverse instead.\n",
    "\\begin{align}\n",
    "\\mathbf G(E) = (E - E_0 - \\mathbf\\Lambda)^{+} \\mathbf D\n",
    "\\end{align}"
   ]
  },
  {
   "cell_type": "markdown",
   "metadata": {},
   "source": [
    "If we can imagine any $\\Lambda$ that decouples the Green's functions, then we have a solution to the Green's function. A few questions are raised:\n",
    "\n",
    "1. What are the matrix elements of the RPA $\\Lambda$?\n",
    "1. Is the RPA decoupling the \"best\" decoupling? What other decouples are available?\n",
    "2. What is the physical interpretation of other types of decouplings?\n",
    "3. For a graph with binary nodes and edges represented by Green's function weights, what does the RPA decoupling scheme represent?\n",
    "4. Can the RPA decoupling scheme be applied to non-spin systems, in particular, systems useful for machine learning?\n",
    "5. In the ML context, what does the temperature and critical temperature represent?"
   ]
  },
  {
   "cell_type": "markdown",
   "metadata": {},
   "source": [
    "We can answer 1 easily.  Consider a binary network with 4 nodes.\n",
    "\\begin{align}\n",
    "\\mathbf\\Lambda &= \\left[\n",
    "\\begin{matrix}\n",
    "-\\sum_{k'\\neq 0}\\langle S^z_{k'}\\rangle J_{0k'} & \\langle S^z_1 \\rangle J_{10} & \\langle S^z_2 \\rangle J_{20} & \\langle S^z_3 \\rangle J_{30} \\\\\n",
    "\\langle S^z_0 \\rangle J_{01} &-\\sum_{k'\\neq 1}\\langle S^z_{k'}\\rangle J_{1k'}&\\langle S^z_2 \\rangle J_{21}&\\langle S^z_3 \\rangle J_{31} \\\\\n",
    "\\langle S^z_0 \\rangle J_{02} & \\langle S^z_1 \\rangle J_{12} &-\\sum_{k'\\neq 2}\\langle S^z_{k'}\\rangle J_{2k'}& \\langle S^z_3 \\rangle J_{32} \\\\\n",
    "\\langle S^z_0 \\rangle J_{03} & \\langle S^z_1 \\rangle J_{13} &\\langle S^z_2 \\rangle J_{23} & -\\sum_{k'\\neq 3}\\langle S^z_{k'}\\rangle J_{3k'}\n",
    "\\end{matrix}\\right]\n",
    "\\end{align}"
   ]
  },
  {
   "cell_type": "markdown",
   "metadata": {
    "collapsed": true
   },
   "source": [
    "Back to the Green's function\n",
    "\\begin{align}\n",
    "\\mathbf G(E) = (E - E_0 - \\mathbf\\Lambda)^{-1} \\mathbf D\n",
    "\\end{align}\n",
    "\n",
    "The correlation function given by Zubarev is\n",
    "\\begin{align}\n",
    "\\langle S^-_j(t')S^+_i(t) \\rangle &= i \\lim_{\\eta\\rightarrow0} \\int\\,dE \\frac{\\mathbf G(E+i\\eta) - \\mathbf G(E - i\\eta)}{e^{\\beta E} - 1}e^{-iE(t-t')}\n",
    "\\end{align}"
   ]
  },
  {
   "cell_type": "markdown",
   "metadata": {},
   "source": [
    "Note that\n",
    "\\begin{align}\n",
    "\\lim_{\\eta\\rightarrow0^+} \\left(\\frac{1}{x+i\\eta} - \\frac{1}{x-i\\eta}\\right) = -2\\pi i\\delta(x)\n",
    "\\end{align}"
   ]
  },
  {
   "cell_type": "markdown",
   "metadata": {},
   "source": [
    "So \n",
    "\\begin{align}\n",
    "\\langle S^-_jS^+_i \\rangle_E\n",
    "&= \\sum_k\\left[e^{\\beta(E - E_0 - \\mathbf\\Lambda)} - 1\\right]^{-1}_{ik} \\mathbf D_{kj}\n",
    "\\end{align}"
   ]
  },
  {
   "cell_type": "markdown",
   "metadata": {
    "collapsed": true
   },
   "source": [
    "The pseudoinverse is determined by the singular-value decomposition (SVD)\n",
    "\\begin{align}\n",
    "A &= U \\Sigma V^\\ast \\\\\n",
    "A^+ &= U \\Sigma^+ V^\\ast\n",
    "\\end{align}\n",
    "where $\\Sigma$ is a diagonal matrix of singular values. The pseudoinverse of this matrix is constructed by replacing the values $s_{ii} > 0$ along the diagonal with $1/s_{ii}$ and keeping the rest of the matrix (all zeros) intact."
   ]
  },
  {
   "cell_type": "code",
   "execution_count": null,
   "metadata": {
    "collapsed": true
   },
   "outputs": [],
   "source": []
  }
 ],
 "metadata": {
  "kernelspec": {
   "display_name": "Python 2",
   "language": "python",
   "name": "python2"
  },
  "language_info": {
   "codemirror_mode": {
    "name": "ipython",
    "version": 2
   },
   "file_extension": ".py",
   "mimetype": "text/x-python",
   "name": "python",
   "nbconvert_exporter": "python",
   "pygments_lexer": "ipython2",
   "version": "2.7.6"
  }
 },
 "nbformat": 4,
 "nbformat_minor": 0
}
